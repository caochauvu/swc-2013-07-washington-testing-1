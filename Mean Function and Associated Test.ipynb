{
 "metadata": {
  "name": "Mean Function and Associated Test"
 },
 "nbformat": 3,
 "nbformat_minor": 0,
 "worksheets": [
  {
   "cells": [
    {
     "cell_type": "code",
     "collapsed": false,
     "input": [
      "def mean(n):\n",
      "    total = float(sum(n))\n",
      "    length = len(n)\n",
      "    return total/length\n",
      "#This will not work for more than one argument, all the numbers need to be in a list."
     ],
     "language": "python",
     "metadata": {},
     "outputs": [],
     "prompt_number": 85
    },
    {
     "cell_type": "code",
     "collapsed": false,
     "input": [
      "#Put in your mean list here\n",
      "mean_list = [1.0, 2, 3, 4]"
     ],
     "language": "python",
     "metadata": {},
     "outputs": [],
     "prompt_number": 86
    },
    {
     "cell_type": "code",
     "collapsed": false,
     "input": [
      "def test_mean():\n",
      "    test_mean_1 = [1, 2, 3, 4]\n",
      "    assert mean(test_mean_1) == 2.5\n",
      "    test_mean_2 = [0, 100]\n",
      "    assert mean(test_mean_2) == 50\n",
      "    test_mean_3 = [0, -80]\n",
      "    assert mean(test_mean_3) == -40"
     ],
     "language": "python",
     "metadata": {},
     "outputs": [],
     "prompt_number": 87
    },
    {
     "cell_type": "code",
     "collapsed": false,
     "input": [
      "#This tests for whether there is a string in the list.\n",
      "def test_mean_for_string(mean_list):\n",
      "    for item in mean_list:\n",
      "        print item\n",
      "        assert not isinstance(item,str)\n",
      "        #try:\n",
      "            #float(item)\n",
      "        #except:\n",
      "            #print \"error\""
     ],
     "language": "python",
     "metadata": {},
     "outputs": [],
     "prompt_number": 88
    },
    {
     "cell_type": "code",
     "collapsed": false,
     "input": [
      "test_mean_for_string(mean_list)"
     ],
     "language": "python",
     "metadata": {},
     "outputs": [
      {
       "output_type": "stream",
       "stream": "stdout",
       "text": [
        "1.0\n",
        "2\n",
        "3\n",
        "4\n"
       ]
      }
     ],
     "prompt_number": 89
    },
    {
     "cell_type": "code",
     "collapsed": false,
     "input": [
      "test_mean()\n"
     ],
     "language": "python",
     "metadata": {},
     "outputs": [],
     "prompt_number": 93
    },
    {
     "cell_type": "code",
     "collapsed": false,
     "input": [
      "mean(mean_list)"
     ],
     "language": "python",
     "metadata": {},
     "outputs": [
      {
       "output_type": "pyout",
       "prompt_number": 91,
       "text": [
        "2.5"
       ]
      }
     ],
     "prompt_number": 91
    },
    {
     "cell_type": "code",
     "collapsed": false,
     "input": [
      "print mean"
     ],
     "language": "python",
     "metadata": {},
     "outputs": [
      {
       "output_type": "stream",
       "stream": "stdout",
       "text": [
        "<function mean at 0x1034ad578>\n"
       ]
      }
     ],
     "prompt_number": 92
    },
    {
     "cell_type": "code",
     "collapsed": false,
     "input": [],
     "language": "python",
     "metadata": {},
     "outputs": []
    }
   ],
   "metadata": {}
  }
 ]
}